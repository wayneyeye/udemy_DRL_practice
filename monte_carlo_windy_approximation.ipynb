{
 "cells": [
  {
   "cell_type": "code",
   "execution_count": 1,
   "metadata": {
    "collapsed": true
   },
   "outputs": [],
   "source": [
    "import numpy as np\n",
    "import time\n",
    "from grid_world import standard_grid,negative_grid\n",
    "import matplotlib.pyplot as plt\n",
    "SMALL_TOL=10e-10\n",
    "ALL_Actions=['U','D','L','R',]\n",
    "GAMMA=0.9\n",
    "LEARNING_RATE = 0.001\n",
    "def print_values(V, g):\n",
    "  print(\"Values:\")\n",
    "  for i in range(g.width):\n",
    "    print(\"---------------------------\")\n",
    "    for j in range(g.height):\n",
    "      v = V.get((i,j), 0)\n",
    "      if v >= 0:\n",
    "        print(\" %.2f|\" % v, end=\"\")\n",
    "      else:\n",
    "        print(\"%.2f|\" % v, end=\"\") # -ve sign takes up an extra space\n",
    "    print(\"\")\n",
    "\n",
    "\n",
    "def print_policy(P, g):\n",
    "  print(\"Policy:\")\n",
    "  for i in range(g.width):\n",
    "    print(\"---------------------------\")\n",
    "    for j in range(g.height):\n",
    "      a = P.get((i,j), ' ')\n",
    "      print(\"  %s  |\" % a, end=\"\")\n",
    "    print(\"\")\n",
    "    "
   ]
  },
  {
   "cell_type": "code",
   "execution_count": 2,
   "metadata": {
    "collapsed": true
   },
   "outputs": [],
   "source": [
    "def play_game(grid,policy):\n",
    "    start_states=list(grid.actions.keys())\n",
    "    start_idx=np.random.choice(len(start_states))\n",
    "    grid.set_state(start_states[start_idx])\n",
    "    s=grid.current_state()\n",
    "    states_and_rewards=[(s,0)] # current state with no reward\n",
    "    while not grid.game_over():\n",
    "        a=policy[s]\n",
    "        a = random_action(a)\n",
    "        r=grid.move(a)\n",
    "        s=grid.current_state()\n",
    "        states_and_rewards.append((s,r))\n",
    "    G=0 # termincal state with value = 0\n",
    "    states_and_returns=[]\n",
    "    first=True\n",
    "    for s, r in reversed(states_and_rewards):\n",
    "        if first:\n",
    "            first=False\n",
    "        else:\n",
    "            states_and_returns.append((s,G))\n",
    "        G=r+GAMMA*G\n",
    "    states_and_returns.reverse()\n",
    "    return states_and_returns\n",
    "\n",
    "def random_action(a):\n",
    "    # choose given a with probability 0.5\n",
    "    # choose some other a' != a with probability 0.5/3\n",
    "    p = np.random.random()\n",
    "    if p < 0.5:\n",
    "        return a\n",
    "    else:\n",
    "        tmp = list(ALL_Actions)\n",
    "        tmp.remove(a)\n",
    "        return np.random.choice(tmp)"
   ]
  },
  {
   "cell_type": "code",
   "execution_count": 3,
   "metadata": {
    "scrolled": false
   },
   "outputs": [
    {
     "name": "stdout",
     "output_type": "stream",
     "text": [
      "rewards:\n",
      "Values:\n",
      "---------------------------\n",
      " 0.00| 0.00| 0.00| 1.00|\n",
      "---------------------------\n",
      " 0.00| 0.00| 0.00|-1.00|\n",
      "---------------------------\n",
      " 0.00| 0.00| 0.00| 0.00|\n"
     ]
    }
   ],
   "source": [
    "grid=standard_grid()\n",
    "print(\"rewards:\")\n",
    "print_values(grid.rewards,grid)"
   ]
  },
  {
   "cell_type": "code",
   "execution_count": 4,
   "metadata": {
    "collapsed": true
   },
   "outputs": [],
   "source": [
    "# state -> action\n",
    "policy = {\n",
    "(2, 0): 'U',\n",
    "(1, 0): 'U',\n",
    "(0, 0): 'R',\n",
    "(0, 1): 'R',\n",
    "(0, 2): 'R',\n",
    "(1, 2): 'U',\n",
    "(2, 1): 'L',\n",
    "(2, 2): 'U',\n",
    "(2, 3): 'L',\n",
    "}"
   ]
  },
  {
   "cell_type": "code",
   "execution_count": 5,
   "metadata": {
    "collapsed": true
   },
   "outputs": [],
   "source": [
    "# Main starts here"
   ]
  },
  {
   "cell_type": "code",
   "execution_count": 6,
   "metadata": {},
   "outputs": [
    {
     "name": "stdout",
     "output_type": "stream",
     "text": [
      "200000\r"
     ]
    },
    {
     "data": {
      "image/png": "[encoded data removed]",
      "text/plain": [
       "<matplotlib.figure.Figure at 0x2048bd46438>"
      ]
     },
     "metadata": {},
     "output_type": "display_data"
    },
    {
     "name": "stdout",
     "output_type": "stream",
     "text": [
      "Values:\n",
      "---------------------------\n",
      " 0.42| 0.55| 0.69| 0.00|\n",
      "---------------------------\n",
      " 0.34| 0.00| 0.35| 0.00|\n",
      "---------------------------\n",
      " 0.27| 0.14| 0.01|-0.13|\n",
      "Policy:\n",
      "---------------------------\n",
      "  R  |  R  |  R  |     |\n",
      "---------------------------\n",
      "  U  |     |  U  |     |\n",
      "---------------------------\n",
      "  U  |  L  |  U  |  L  |\n"
     ]
    }
   ],
   "source": [
    "theta=np.random.randn(4)/2\n",
    "def s2x(s):\n",
    "    return np.array([s[0]-1,s[1]-1.5,s[0]*s[1]-3,1])\n",
    "deltas=[]\n",
    "t=1.0\n",
    "for it in range(200000+1):\n",
    "    if it %100==0:\n",
    "        print(it,end='\\r')\n",
    "        t+=0.01\n",
    "    alpha=LEARNING_RATE/t\n",
    "    biggest_change=0\n",
    "    states_and_returns=play_game(grid,policy)\n",
    "    seen_states=set()\n",
    "    for s, G in states_and_returns:\n",
    "        if s not in seen_states:\n",
    "            old_theta=theta.copy()\n",
    "            x=s2x(s)\n",
    "            V_hat=theta.dot(x)\n",
    "            # d(V_hat)/d(theta)=x \n",
    "            theta+=alpha*(G-V_hat)*x\n",
    "            biggest_change=max(biggest_change,np.abs(old_theta-theta).sum())\n",
    "            seen_states.add(s)\n",
    "    deltas.append(biggest_change)\n",
    "# check results\n",
    "plt.plot(deltas)\n",
    "plt.show()\n",
    "# obtain predicted values\n",
    "V = {}\n",
    "states = grid.all_states()\n",
    "for s in states:\n",
    "    if s in grid.actions:\n",
    "        V[s] = theta.dot(s2x(s))\n",
    "    else:\n",
    "      # terminal state or state we can't otherwise get to\n",
    "        V[s] = 0\n",
    "\n",
    "print_values(V, grid)\n",
    "print_policy(policy, grid)"
   ]
  },
  {
   "cell_type": "code",
   "execution_count": 8,
   "metadata": {},
   "outputs": [
    {
     "data": {
      "text/plain": [
       "array([-0.07580052,  0.13435532, -0.13044959,  0.14252559])"
      ]
     },
     "execution_count": 8,
     "metadata": {},
     "output_type": "execute_result"
    }
   ],
   "source": [
    "theta"
   ]
  }
 ],
 "metadata": {
  "kernelspec": {
   "display_name": "Python 3",
   "language": "python",
   "name": "python3"
  },
  "language_info": {
   "codemirror_mode": {
    "name": "ipython",
    "version": 3
   },
   "file_extension": ".py",
   "mimetype": "text/x-python",
   "name": "python",
   "nbconvert_exporter": "python",
   "pygments_lexer": "ipython3",
   "version": "3.6.3"
  }
 },
 "nbformat": 4,
 "nbformat_minor": 2
}
