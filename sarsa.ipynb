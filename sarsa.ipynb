{
 "cells": [
  {
   "cell_type": "code",
   "execution_count": null,
   "metadata": {
    "collapsed": true
   },
   "outputs": [],
   "source": [
    "# this is the online learning"
   ]
  },
  {
   "cell_type": "code",
   "execution_count": 14,
   "metadata": {
    "collapsed": true
   },
   "outputs": [],
   "source": [
    "import numpy as np\n",
    "import time\n",
    "from grid_world import standard_grid,negative_grid\n",
    "SMALL_TOL=10e-10\n",
    "ALL_Actions=['U','D','L','R',]\n",
    "GAMMA=0.9\n",
    "ALPHA=0.2\n",
    "def print_values(V, g):\n",
    "  print(\"Values:\")\n",
    "  for i in range(g.width):\n",
    "    print(\"---------------------------\")\n",
    "    for j in range(g.height):\n",
    "      v = V.get((i,j), 0)\n",
    "      if v >= 0:\n",
    "        print(\" %.2f|\" % v, end=\"\")\n",
    "      else:\n",
    "        print(\"%.2f|\" % v, end=\"\") # -ve sign takes up an extra space\n",
    "    print(\"\")\n",
    "\n",
    "\n",
    "def print_policy(P, g):\n",
    "  print(\"Policy:\")\n",
    "  for i in range(g.width):\n",
    "    print(\"---------------------------\")\n",
    "    for j in range(g.height):\n",
    "      a = P.get((i,j), ' ')\n",
    "      print(\"  %s  |\" % a, end=\"\")\n",
    "    print(\"\")\n",
    "    "
   ]
  },
  {
   "cell_type": "code",
   "execution_count": 15,
   "metadata": {
    "collapsed": true
   },
   "outputs": [],
   "source": [
    "def random_action(a, eps=0.1):\n",
    "    p = np.random.random()\n",
    "    if p < (1 - eps):\n",
    "        return a\n",
    "    else:\n",
    "        return np.random.choice(ALL_Actions)"
   ]
  },
  {
   "cell_type": "code",
   "execution_count": 16,
   "metadata": {
    "collapsed": true
   },
   "outputs": [],
   "source": [
    "def max_dict(d):\n",
    "    max_key=None\n",
    "    max_val=float('-inf')\n",
    "    for k,v in d.items():\n",
    "        if v>max_val:\n",
    "            max_val=v\n",
    "            max_key=k\n",
    "    return max_key,max_val"
   ]
  },
  {
   "cell_type": "markdown",
   "metadata": {},
   "source": [
    "Main starts here!"
   ]
  },
  {
   "cell_type": "code",
   "execution_count": 17,
   "metadata": {
    "scrolled": false
   },
   "outputs": [
    {
     "name": "stdout",
     "output_type": "stream",
     "text": [
      "rewards:\n",
      "Values:\n",
      "---------------------------\n",
      "-0.10|-0.10|-0.10| 1.00|\n",
      "---------------------------\n",
      "-0.10| 0.00|-0.10|-1.00|\n",
      "---------------------------\n",
      "-0.10|-0.10|-0.10|-0.10|\n"
     ]
    }
   ],
   "source": [
    "grid=negative_grid()\n",
    "print(\"rewards:\")\n",
    "print_values(grid.rewards,grid)"
   ]
  },
  {
   "cell_type": "code",
   "execution_count": 22,
   "metadata": {},
   "outputs": [
    {
     "name": "stdout",
     "output_type": "stream",
     "text": [
      "Values: iteration: 100000\n",
      "---------------------------\n",
      " 0.60| 0.79| 1.00| 0.00|\n",
      "---------------------------\n",
      " 0.43| 0.00| 0.79| 0.00|\n",
      "---------------------------\n",
      " 0.28| 0.43| 0.61| 0.42|\n",
      "Policy:\n",
      "---------------------------\n",
      "  R  |  R  |  R  |     |\n",
      "---------------------------\n",
      "  U  |     |  U  |     |\n",
      "---------------------------\n",
      "  U  |  R  |  U  |  L  |\n"
     ]
    },
    {
     "data": {
      "image/png": "[encoded data removed]",
      "text/plain": [
       "<matplotlib.figure.Figure at 0x25ba57132b0>"
      ]
     },
     "metadata": {},
     "output_type": "display_data"
    }
   ],
   "source": [
    "policy = {}\n",
    "for s in grid.actions.keys():\n",
    "    policy[s] = np.random.choice(ALL_Actions)\n",
    "\n",
    "# Main starts here\n",
    "\n",
    "# initialize Q = 0\n",
    "Q = {}\n",
    "returns={}\n",
    "states=grid.all_states()\n",
    "\n",
    "for s in states:\n",
    "    Q[s] = {}\n",
    "    for a in ALL_Actions:\n",
    "        Q[s][a]=0\n",
    "\n",
    "\n",
    "# value iteration\n",
    "update_counts={}\n",
    "update_counts_sa={}\n",
    "for s in states:\n",
    "    update_counts_sa[s]={}\n",
    "    for a in ALL_Actions:\n",
    "        update_counts_sa[s][a]=1\n",
    "\n",
    "t=1\n",
    "deltas=[]\n",
    "iter_n=0\n",
    "for it in range(100000):\n",
    "    iter_n+=1\n",
    "    print(\"Current iteration: \"+str(iter_n),end='\\r')\n",
    "    if it  % 100==0:\n",
    "        t+=1e-2\n",
    "    s=(2,0)\n",
    "    grid.set_state(s)\n",
    "    a=max_dict(Q[s])[0]\n",
    "    a=random_action(a,eps=0.5/t)\n",
    "    biggest_change=0\n",
    "    while not grid.game_over():\n",
    "        r=grid.move(a)\n",
    "        s2=grid.current_state()\n",
    "        a2=max_dict(Q[s2])[0]\n",
    "        a2=random_action(a2,eps=0.5/t)\n",
    "        alpha=ALPHA/update_counts_sa[s][a]\n",
    "        update_counts_sa[s][a]+=0.001\n",
    "        old_qsa=Q[s][a]\n",
    "        Q[s][a]=Q[s][a]+alpha*(r+GAMMA*Q[s2][a2]-Q[s][a])\n",
    "        biggest_change=max(biggest_change,np.abs(old_qsa-Q[s][a]))\n",
    "        update_counts[s]=update_counts.get(s,0)+1\n",
    "        s=s2\n",
    "        a=a2\n",
    "    deltas.append(biggest_change)\n",
    "       \n",
    "#     time.sleep(0.001)\n",
    "#check the result\n",
    "V = {}\n",
    "for s, Qs in Q.items():\n",
    "    V[s] = max_dict(Q[s])[1]\n",
    "    if s in policy:\n",
    "        policy[s]=max_dict(Q[s])[0]\n",
    "    \n",
    "    \n",
    "\n",
    "print_values(V,grid)\n",
    "print_policy(policy,grid)\n",
    "\n",
    "import matplotlib.pyplot as plt\n",
    "plt.plot(deltas)\n",
    "plt.show()"
   ]
  },
  {
   "cell_type": "code",
   "execution_count": null,
   "metadata": {
    "collapsed": true
   },
   "outputs": [],
   "source": []
  }
 ],
 "metadata": {
  "kernelspec": {
   "display_name": "Python 3",
   "language": "python",
   "name": "python3"
  },
  "language_info": {
   "codemirror_mode": {
    "name": "ipython",
    "version": 3
   },
   "file_extension": ".py",
   "mimetype": "text/x-python",
   "name": "python",
   "nbconvert_exporter": "python",
   "pygments_lexer": "ipython3",
   "version": "3.6.3"
  }
 },
 "nbformat": 4,
 "nbformat_minor": 2
}
