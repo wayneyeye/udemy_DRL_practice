{
 "cells": [
  {
   "cell_type": "code",
   "execution_count": 1,
   "metadata": {
    "collapsed": true
   },
   "outputs": [],
   "source": [
    "import numpy as np\n",
    "import time\n",
    "from grid_world import standard_grid,negative_grid\n",
    "SMALL_TOL=10e-10\n",
    "ALL_Actions=['U','D','L','R',]\n",
    "GAMMA=0.9\n",
    "def print_values(V, g):\n",
    "  print(\"Values:\")\n",
    "  for i in range(g.width):\n",
    "    print(\"---------------------------\")\n",
    "    for j in range(g.height):\n",
    "      v = V.get((i,j), 0)\n",
    "      if v >= 0:\n",
    "        print(\" %.2f|\" % v, end=\"\")\n",
    "      else:\n",
    "        print(\"%.2f|\" % v, end=\"\") # -ve sign takes up an extra space\n",
    "    print(\"\")\n",
    "\n",
    "\n",
    "def print_policy(P, g):\n",
    "  print(\"Policy:\")\n",
    "  for i in range(g.width):\n",
    "    print(\"---------------------------\")\n",
    "    for j in range(g.height):\n",
    "      a = P.get((i,j), ' ')\n",
    "      print(\"  %s  |\" % a, end=\"\")\n",
    "    print(\"\")\n",
    "    "
   ]
  },
  {
   "cell_type": "code",
   "execution_count": 2,
   "metadata": {
    "collapsed": true
   },
   "outputs": [],
   "source": [
    "def play_game(grid,policy):\n",
    "    start_states=list(grid.actions.keys())\n",
    "    start_idx=np.random.choice(len(start_states))\n",
    "    grid.set_state(start_states[start_idx])\n",
    "    \n",
    "    s=grid.current_state()\n",
    "    a=np.random.choice(ALL_Actions)\n",
    "    states_actions_rewards=[(s,a,0)] # current state|action with no reward\n",
    "    seen_states=set()\n",
    "    while True:\n",
    "        old_s=grid.current_state()\n",
    "        r=grid.move(a)\n",
    "        s=grid.current_state()\n",
    "        if s in seen_states:\n",
    "            states_actions_rewards.append((s,None,-100)) # penalize the bumping policies\n",
    "            break\n",
    "        elif grid.game_over():\n",
    "            states_actions_rewards.append((s,None,r))\n",
    "            break\n",
    "        else: #go to next action\n",
    "            a=policy[s]\n",
    "            states_actions_rewards.append((s,a,r)) #rewards for the current state is recorded\n",
    "        seen_states.add(s)\n",
    "    G=0\n",
    "    states_actions_returns=[]\n",
    "    first=True\n",
    "    for s,a,r in reversed(states_actions_rewards):\n",
    "        if first:\n",
    "            first=False\n",
    "        else:\n",
    "            states_actions_returns.append((s,a,G))\n",
    "        G=r+GAMMA*G\n",
    "    states_actions_returns.reverse()\n",
    "    return states_actions_returns"
   ]
  },
  {
   "cell_type": "code",
   "execution_count": 3,
   "metadata": {
    "collapsed": true
   },
   "outputs": [],
   "source": [
    "def max_dict(d):\n",
    "    max_key=None\n",
    "    max_val=float('-inf')\n",
    "    for k,v in d.items():\n",
    "        if v>max_val:\n",
    "            max_val=v\n",
    "            max_key=k\n",
    "    return max_key,max_val"
   ]
  },
  {
   "cell_type": "code",
   "execution_count": 4,
   "metadata": {
    "scrolled": false
   },
   "outputs": [
    {
     "name": "stdout",
     "output_type": "stream",
     "text": [
      "rewards:\n",
      "Values:\n",
      "---------------------------\n",
      "-0.10|-0.10|-0.10| 1.00|\n",
      "---------------------------\n",
      "-0.10| 0.00|-0.10|-1.00|\n",
      "---------------------------\n",
      "-0.10|-0.10|-0.10|-0.10|\n"
     ]
    }
   ],
   "source": [
    "grid=negative_grid()\n",
    "print(\"rewards:\")\n",
    "print_values(grid.rewards,grid)"
   ]
  },
  {
   "cell_type": "code",
   "execution_count": 5,
   "metadata": {
    "collapsed": true
   },
   "outputs": [],
   "source": [
    "policy = {}\n",
    "for s in grid.actions.keys():\n",
    "    policy[s] = np.random.choice(ALL_Actions)"
   ]
  },
  {
   "cell_type": "code",
   "execution_count": 28,
   "metadata": {
    "collapsed": true
   },
   "outputs": [],
   "source": [
    "# Main starts here"
   ]
  },
  {
   "cell_type": "code",
   "execution_count": 12,
   "metadata": {
    "scrolled": true
   },
   "outputs": [
    {
     "name": "stdout",
     "output_type": "stream",
     "text": [
      "5000\n",
      "Values:\n",
      "---------------------------\n",
      " 0.12| 0.80| 1.00| 0.00|\n",
      "---------------------------\n",
      " 0.11| 0.00| 0.80| 0.00|\n",
      "---------------------------\n",
      " 0.31| 0.46| 0.62| 0.46|\n",
      "Policy:\n",
      "---------------------------\n",
      "  R  |  R  |  R  |     |\n",
      "---------------------------\n",
      "  D  |     |  U  |     |\n",
      "---------------------------\n",
      "  R  |  R  |  U  |  L  |\n"
     ]
    },
    {
     "data": {
      "image/png": "[encoded data removed]",
      "text/plain": [
       "<matplotlib.figure.Figure at 0x2bd9a979b00>"
      ]
     },
     "metadata": {},
     "output_type": "display_data"
    }
   ],
   "source": [
    "# initialize V(s) = 0\n",
    "Q = {}\n",
    "returns={}\n",
    "states=grid.all_states()\n",
    "\n",
    "for s in states:\n",
    "    if s in grid.actions:\n",
    "        Q[s] = {}\n",
    "        for a in ALL_Actions:\n",
    "            Q[s][a]=0\n",
    "            returns[(s,a)]=[]\n",
    "    else:\n",
    "        pass\n",
    "\n",
    "# value iteration\n",
    "deltas=[]\n",
    "iter_n=0\n",
    "for t in range(5000):\n",
    "    iter_n+=1\n",
    "    biggest_change=0\n",
    "    states_actions_returns=play_game(grid,policy)\n",
    "    seen_state_action_pairs=set()\n",
    "    for s,a,G in states_actions_returns:\n",
    "        sa=(s,a)\n",
    "        if sa not in seen_state_action_pairs:\n",
    "            old_q=Q[s][a]\n",
    "            returns[sa].append(G)\n",
    "            Q[s][a]=np.mean(returns[sa])\n",
    "            biggest_change=max(biggest_change,np.abs(old_q-Q[s][a]))\n",
    "            seen_state_action_pairs.add(sa)\n",
    "    deltas.append(biggest_change)\n",
    "    #update policy\n",
    "    for s in policy.keys():\n",
    "        policy[s]=max_dict(Q[s])[0]\n",
    "    \n",
    "    \n",
    "    print(iter_n,end='\\r')\n",
    "#     time.sleep(0.001)\n",
    "#check the result\n",
    "print()\n",
    "V = {}\n",
    "for s, Qs in Q.items():\n",
    "    V[s] = max_dict(Q[s])[1]\n",
    "\n",
    "print_values(V,grid)\n",
    "print_policy(policy,grid)\n",
    "\n",
    "import matplotlib.pyplot as plt\n",
    "plt.plot(deltas)\n",
    "plt.show()"
   ]
  }
 ],
 "metadata": {
  "kernelspec": {
   "display_name": "Python 3",
   "language": "python",
   "name": "python3"
  },
  "language_info": {
   "codemirror_mode": {
    "name": "ipython",
    "version": 3
   },
   "file_extension": ".py",
   "mimetype": "text/x-python",
   "name": "python",
   "nbconvert_exporter": "python",
   "pygments_lexer": "ipython3",
   "version": "3.6.3"
  }
 },
 "nbformat": 4,
 "nbformat_minor": 2
}
