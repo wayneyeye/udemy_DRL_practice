{
 "cells": [
  {
   "cell_type": "code",
   "execution_count": 37,
   "metadata": {},
   "outputs": [],
   "source": [
    "import numpy as np\n",
    "import time\n",
    "from grid_world import standard_grid\n",
    "SMALL_TOL=10e-8\n",
    "\n",
    "def print_values(V, g):\n",
    "  for i in range(g.width):\n",
    "    print(\"---------------------------\")\n",
    "    for j in range(g.height):\n",
    "      v = V.get((i,j), 0)\n",
    "      if v >= 0:\n",
    "        print(\" %.2f|\" % v, end=\"\")\n",
    "      else:\n",
    "        print(\"%.2f|\" % v, end=\"\") # -ve sign takes up an extra space\n",
    "    print(\"\")\n",
    "\n",
    "\n",
    "def print_policy(P, g):\n",
    "  for i in range(g.width):\n",
    "    print(\"---------------------------\")\n",
    "    for j in range(g.height):\n",
    "      a = P.get((i,j), ' ')\n",
    "      print(\"  %s  |\" % a, end=\"\")\n",
    "    print(\"\")\n",
    "    "
   ]
  },
  {
   "cell_type": "code",
   "execution_count": 38,
   "metadata": {
    "collapsed": true
   },
   "outputs": [],
   "source": [
    "# Main starts here"
   ]
  },
  {
   "cell_type": "code",
   "execution_count": 39,
   "metadata": {
    "collapsed": true
   },
   "outputs": [],
   "source": [
    "grid = standard_grid()\n",
    "states = grid.all_states()"
   ]
  },
  {
   "cell_type": "code",
   "execution_count": 44,
   "metadata": {},
   "outputs": [
    {
     "name": "stdout",
     "output_type": "stream",
     "text": [
      "Iter --> 36 Biggest_Change --> 1.1317412559885831e-07\n",
      "values for uniformly random actions:\n",
      "---------------------------\n",
      " 0.05| 0.14| 0.27| 0.00|\n",
      "---------------------------\n",
      "-0.03| 0.00|-0.37| 0.00|\n",
      "---------------------------\n",
      "-0.11|-0.22|-0.38|-0.67|\n",
      "\n",
      "\n",
      "\n"
     ]
    }
   ],
   "source": [
    "### uniformly random actions ###\n",
    "# initialize V(s) = 0\n",
    "V = {}\n",
    "for s in states:\n",
    "    V[s] = 0\n",
    "    gamma = 0.9 # discount factor\n",
    "\n",
    "# repeat until convergence\n",
    "iter_n=1\n",
    "while True:\n",
    "    biggest_change = 0\n",
    "    for s in states:\n",
    "        old_v = V[s]\n",
    "        # V(s) only has value if it's not a terminal state\n",
    "        if s in grid.actions:\n",
    "            new_v = 0 # we will accumulate the answer\n",
    "            p_a = 1.0 / len(grid.actions[s]) # each action has equal probability\n",
    "            for a in grid.actions[s]:\n",
    "                grid.set_state(s)\n",
    "                r = grid.move(a)\n",
    "                new_v += p_a * (r + gamma * V[grid.current_state()]) # use value from the previous iteration\n",
    "            V[s] = new_v\n",
    "            biggest_change = max(biggest_change, np.abs(old_v - V[s]))\n",
    "    if biggest_change < SMALL_TOL: # check is stopping criteria met\n",
    "        break\n",
    "    else:\n",
    "        time.sleep(0.01)\n",
    "        iter_n+=1\n",
    "        print(\"Iter --> {1} Biggest_Change --> {0}\".format(biggest_change,iter_n),end=\"\\r\")\n",
    "print()\n",
    "print(\"values for uniformly random actions:\")\n",
    "print_values(V, grid)\n",
    "print(\"\\n\\n\")"
   ]
  },
  {
   "cell_type": "code",
   "execution_count": 47,
   "metadata": {},
   "outputs": [
    {
     "name": "stdout",
     "output_type": "stream",
     "text": [
      "---------------------------\n",
      "  R  |  R  |  R  |     |\n",
      "---------------------------\n",
      "  U  |     |  R  |     |\n",
      "---------------------------\n",
      "  U  |  R  |  R  |  U  |\n"
     ]
    }
   ],
   "source": [
    "### fixed policy ###\n",
    "policy = {\n",
    "(2, 0): 'U',\n",
    "(1, 0): 'U',\n",
    "(0, 0): 'R',\n",
    "(0, 1): 'R',\n",
    "(0, 2): 'R',\n",
    "(1, 2): 'R',\n",
    "(2, 1): 'R',\n",
    "(2, 2): 'R',\n",
    "(2, 3): 'U',\n",
    "}\n",
    "print_policy(policy, grid)"
   ]
  },
  {
   "cell_type": "code",
   "execution_count": 48,
   "metadata": {},
   "outputs": [
    {
     "name": "stdout",
     "output_type": "stream",
     "text": [
      "values for fixed policy:\n",
      "---------------------------\n",
      " 0.81| 0.90| 1.00| 0.00|\n",
      "---------------------------\n",
      " 0.73| 0.00|-1.00| 0.00|\n",
      "---------------------------\n",
      " 0.66|-0.81|-0.90|-1.00|\n"
     ]
    }
   ],
   "source": [
    "# initialize V(s) = 0\n",
    "V = {}\n",
    "for s in states:\n",
    "    V[s] = 0\n",
    "# let's see how V(s) changes as we get further away from the reward\n",
    "gamma = 0.9 # discount factor\n",
    "# repeat until convergence\n",
    "while True:\n",
    "    biggest_change = 0\n",
    "    for s in states:\n",
    "        old_v = V[s]\n",
    "        # V(s) only has value if it's not a terminal state\n",
    "        if s in policy:\n",
    "            a = policy[s]\n",
    "            grid.set_state(s)\n",
    "            r = grid.move(a)\n",
    "            V[s] = r + gamma * V[grid.current_state()] # no need to sum up actions\n",
    "            biggest_change = max(biggest_change, np.abs(old_v - V[s]))\n",
    "    if biggest_change < SMALL_TOL:\n",
    "        break\n",
    "\n",
    "print(\"values for fixed policy:\")\n",
    "print_values(V, grid)"
   ]
  },
  {
   "cell_type": "code",
   "execution_count": null,
   "metadata": {
    "collapsed": true
   },
   "outputs": [],
   "source": []
  }
 ],
 "metadata": {
  "kernelspec": {
   "display_name": "Python 3",
   "language": "python",
   "name": "python3"
  },
  "language_info": {
   "codemirror_mode": {
    "name": "ipython",
    "version": 3
   },
   "file_extension": ".py",
   "mimetype": "text/x-python",
   "name": "python",
   "nbconvert_exporter": "python",
   "pygments_lexer": "ipython3",
   "version": "3.6.3"
  }
 },
 "nbformat": 4,
 "nbformat_minor": 2
}
