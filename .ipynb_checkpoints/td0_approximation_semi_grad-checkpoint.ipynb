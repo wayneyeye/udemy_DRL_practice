{
 "cells": [
  {
   "cell_type": "code",
   "execution_count": 48,
   "metadata": {
    "collapsed": true
   },
   "outputs": [],
   "source": [
    "import numpy as np\n",
    "import time\n",
    "from grid_world import standard_grid,negative_grid\n",
    "import matplotlib.pyplot as plt\n",
    "SMALL_TOL=10e-10\n",
    "ALL_Actions=['U','D','L','R',]\n",
    "GAMMA = 0.9\n",
    "ALPHA = 0.1\n",
    "def print_values(V, g):\n",
    "  print(\"Values:\")\n",
    "  for i in range(g.width):\n",
    "    print(\"---------------------------\")\n",
    "    for j in range(g.height):\n",
    "      v = V.get((i,j), 0)\n",
    "      if v >= 0:\n",
    "        print(\" %.2f|\" % v, end=\"\")\n",
    "      else:\n",
    "        print(\"%.2f|\" % v, end=\"\") # -ve sign takes up an extra space\n",
    "    print(\"\")\n",
    "\n",
    "\n",
    "def print_policy(P, g):\n",
    "  print(\"Policy:\")\n",
    "  for i in range(g.width):\n",
    "    print(\"---------------------------\")\n",
    "    for j in range(g.height):\n",
    "      a = P.get((i,j), ' ')\n",
    "      print(\"  %s  |\" % a, end=\"\")\n",
    "    print(\"\")\n",
    "    "
   ]
  },
  {
   "cell_type": "code",
   "execution_count": 49,
   "metadata": {
    "collapsed": true
   },
   "outputs": [],
   "source": [
    "class Model:\n",
    "  def __init__(self):\n",
    "    self.theta = np.random.randn(4) / 2\n",
    "  \n",
    "  def s2x(self, s):\n",
    "    return np.array([s[0] - 1, s[1] - 1.5, s[0]*s[1] - 3, 1])\n",
    "\n",
    "  def predict(self, s):\n",
    "    x = self.s2x(s)\n",
    "    return self.theta.dot(x)\n",
    "\n",
    "  def grad(self, s):\n",
    "    return self.s2x(s)"
   ]
  },
  {
   "cell_type": "code",
   "execution_count": 50,
   "metadata": {},
   "outputs": [],
   "source": [
    "def play_game(grid, policy):\n",
    "  # returns a list of states and corresponding rewards (not returns as in MC)\n",
    "    # start at the designated start state\n",
    "    s = (2, 0)\n",
    "    grid.set_state(s)\n",
    "    states_and_rewards = [(s, 0)] # list of tuples of (state, reward)\n",
    "    while not grid.game_over():\n",
    "        a = policy[s]\n",
    "        a = random_action(a)\n",
    "        r = grid.move(a)\n",
    "        s = grid.current_state()\n",
    "        states_and_rewards.append((s, r))\n",
    "    return states_and_rewards\n",
    "\n",
    "def random_action(a, eps=0.1):\n",
    "    p = np.random.random()\n",
    "    if p < (1 - eps):\n",
    "        return a\n",
    "    else:\n",
    "        return np.random.choice(ALL_Actions)"
   ]
  },
  {
   "cell_type": "code",
   "execution_count": 51,
   "metadata": {
    "scrolled": false
   },
   "outputs": [
    {
     "name": "stdout",
     "output_type": "stream",
     "text": [
      "rewards:\n",
      "Values:\n",
      "---------------------------\n",
      " 0.00| 0.00| 0.00| 1.00|\n",
      "---------------------------\n",
      " 0.00| 0.00| 0.00|-1.00|\n",
      "---------------------------\n",
      " 0.00| 0.00| 0.00| 0.00|\n"
     ]
    }
   ],
   "source": [
    "grid=standard_grid()\n",
    "print(\"rewards:\")\n",
    "print_values(grid.rewards,grid)"
   ]
  },
  {
   "cell_type": "code",
   "execution_count": 52,
   "metadata": {
    "collapsed": true
   },
   "outputs": [],
   "source": [
    "# state -> action\n",
    "policy = {\n",
    "(2, 0): 'U',\n",
    "(1, 0): 'U',\n",
    "(0, 0): 'R',\n",
    "(0, 1): 'R',\n",
    "(0, 2): 'R',\n",
    "(1, 2): 'R',\n",
    "(2, 1): 'R',\n",
    "(2, 2): 'R',\n",
    "(2, 3): 'U',\n",
    "}"
   ]
  },
  {
   "cell_type": "code",
   "execution_count": 53,
   "metadata": {
    "collapsed": true
   },
   "outputs": [],
   "source": [
    "# Main starts here"
   ]
  },
  {
   "cell_type": "raw",
   "metadata": {},
   "source": [
    "review of td0"
   ]
  },
  {
   "cell_type": "code",
   "execution_count": 60,
   "metadata": {},
   "outputs": [
    {
     "name": "stdout",
     "output_type": "stream",
     "text": [
      "49999\n",
      "Values:\n",
      "---------------------------\n",
      " 0.75| 0.84| 0.94| 0.00|\n",
      "---------------------------\n",
      " 0.67| 0.00|-0.93| 0.00|\n",
      "---------------------------\n",
      " 0.56|-0.75|-0.88|-0.99|\n",
      "Policy:\n",
      "---------------------------\n",
      "  R  |  R  |  R  |     |\n",
      "---------------------------\n",
      "  U  |     |  R  |     |\n",
      "---------------------------\n",
      "  U  |  R  |  R  |  U  |\n"
     ]
    },
    {
     "data": {
      "image/png": "[encoded data removed]",
      "text/plain": [
       "<matplotlib.figure.Figure at 0x24b5a3bad68>"
      ]
     },
     "metadata": {},
     "output_type": "display_data"
    }
   ],
   "source": [
    "V={}\n",
    "states=grid.all_states()\n",
    "for s in states:\n",
    "    V[s]=0 #initialize\n",
    "k=1\n",
    "deltas=[]\n",
    "for it in range(50000):\n",
    "    k+=0.001\n",
    "    biggest_change=0\n",
    "    print(it,end='\\r')\n",
    "    states_and_rewards=play_game(grid,policy)\n",
    "    for t in range(len(states_and_rewards)-1):\n",
    "        s,_=states_and_rewards[t]\n",
    "        s2,r=states_and_rewards[t+1]\n",
    "        biggest_change=max(biggest_change,ALPHA/k*(r+GAMMA*V[s2]-V[s]))\n",
    "        V[s]+=(ALPHA/k)*(r+GAMMA*V[s2]-V[s])\n",
    "    deltas.append(biggest_change)\n",
    "print()\n",
    "print_values(V, grid)\n",
    "print_policy(policy, grid)\n",
    "plt.plot(deltas)\n",
    "plt.show()"
   ]
  },
  {
   "cell_type": "raw",
   "metadata": {},
   "source": [
    "td0 prediction with semi grad"
   ]
  },
  {
   "cell_type": "code",
   "execution_count": 62,
   "metadata": {},
   "outputs": [
    {
     "name": "stdout",
     "output_type": "stream",
     "text": [
      "49999\n",
      "Values:\n",
      "---------------------------\n",
      " 0.75| 0.84| 0.94| 0.00|\n",
      "---------------------------\n",
      " 0.67| 0.00|-0.93| 0.00|\n",
      "---------------------------\n",
      " 0.56|-0.75|-0.88|-0.99|\n",
      "Policy:\n",
      "---------------------------\n",
      "  R  |  R  |  R  |     |\n",
      "---------------------------\n",
      "  U  |     |  R  |     |\n",
      "---------------------------\n",
      "  U  |  R  |  R  |  U  |\n"
     ]
    },
    {
     "data": {
      "image/png": "[encoded data removed]",
      "text/plain": [
       "<matplotlib.figure.Figure at 0x24b5a205748>"
      ]
     },
     "metadata": {},
     "output_type": "display_data"
    }
   ],
   "source": [
    "model = Model()\n",
    "k=1\n",
    "deltas=[]\n",
    "for it in range(50000):\n",
    "    k+=0.001\n",
    "    biggest_change=0\n",
    "    print(it,end='\\r')\n",
    "    states_and_rewards=play_game(grid,policy)\n",
    "    for t in range(len(states_and_rewards)-1):\n",
    "        s,_=states_and_rewards[t]\n",
    "        s2,r=states_and_rewards[t+1]\n",
    "        old_theta=model.theta.copy()\n",
    "        if grid.is_terminal(s2):\n",
    "            target=r\n",
    "        else:\n",
    "            target=r+GAMMA*model.predict(s2)\n",
    "        model.theta+=ALPHA/k*(target-model.predict(s))*model.grad(s)\n",
    "        biggest_change=max(biggest_change,np.abs(old_theta-model.theta).sum())\n",
    "    deltas.append(biggest_change)\n",
    "print()\n",
    "print_values(V, grid)\n",
    "print_policy(policy, grid)\n",
    "plt.plot(deltas)\n",
    "plt.show()"
   ]
  }
 ],
 "metadata": {
  "kernelspec": {
   "display_name": "Python 3",
   "language": "python",
   "name": "python3"
  },
  "language_info": {
   "codemirror_mode": {
    "name": "ipython",
    "version": 3
   },
   "file_extension": ".py",
   "mimetype": "text/x-python",
   "name": "python",
   "nbconvert_exporter": "python",
   "pygments_lexer": "ipython3",
   "version": "3.6.3"
  }
 },
 "nbformat": 4,
 "nbformat_minor": 2
}
