{
 "cells": [
  {
   "cell_type": "code",
   "execution_count": 2,
   "metadata": {
    "collapsed": true
   },
   "outputs": [],
   "source": [
    "import numpy as np\n",
    "import time\n",
    "from grid_world import standard_grid,negative_grid\n",
    "SMALL_TOL=10e-10\n",
    "ALL_Actions=['U','D','L','R',]\n",
    "GAMMA=0.9\n",
    "ALPHA=0.2\n",
    "def print_values(V, g):\n",
    "  print(\"Values:\")\n",
    "  for i in range(g.width):\n",
    "    print(\"---------------------------\")\n",
    "    for j in range(g.height):\n",
    "      v = V.get((i,j), 0)\n",
    "      if v >= 0:\n",
    "        print(\" %.2f|\" % v, end=\"\")\n",
    "      else:\n",
    "        print(\"%.2f|\" % v, end=\"\") # -ve sign takes up an extra space\n",
    "    print(\"\")\n",
    "\n",
    "\n",
    "def print_policy(P, g):\n",
    "  print(\"Policy:\")\n",
    "  for i in range(g.width):\n",
    "    print(\"---------------------------\")\n",
    "    for j in range(g.height):\n",
    "      a = P.get((i,j), ' ')\n",
    "      print(\"  %s  |\" % a, end=\"\")\n",
    "    print(\"\")"
   ]
  },
  {
   "cell_type": "code",
   "execution_count": 3,
   "metadata": {
    "collapsed": true
   },
   "outputs": [],
   "source": [
    "def random_action(a, eps=0.1):\n",
    "    p = np.random.random()\n",
    "    if p < (1 - eps):\n",
    "        return a\n",
    "    else:\n",
    "        return np.random.choice(ALL_Actions)\n",
    "def max_dict(d):\n",
    "    max_key=None\n",
    "    max_val=float('-inf')\n",
    "    for k,v in d.items():\n",
    "        if v>max_val:\n",
    "            max_val=v\n",
    "            max_key=k\n",
    "    return max_key,max_val"
   ]
  },
  {
   "cell_type": "code",
   "execution_count": 4,
   "metadata": {
    "collapsed": true
   },
   "outputs": [],
   "source": [
    "SA2IDX = {}\n",
    "IDX = 0"
   ]
  },
  {
   "cell_type": "code",
   "execution_count": 6,
   "metadata": {
    "collapsed": true
   },
   "outputs": [],
   "source": [
    "class Model:\n",
    "    def __init__(self):\n",
    "        self.theta = np.random.randn(25) / np.sqrt(25)\n",
    "    # if we use SA2IDX, a one-hot encoding for every (s,a) pair\n",
    "    # in reality we wouldn't want to do this b/c we have just\n",
    "    # as many params as before\n",
    "    # print \"D:\", IDX\n",
    "    # self.theta = np.random.randn(IDX) / np.sqrt(IDX)\n",
    "\n",
    "    def sa2x(self, s, a):\n",
    "    # NOTE: using just (r, c, r*c, u, d, l, r, 1) is not expressive enough\n",
    "        return np.array([\n",
    "        s[0] - 1              if a == 'U' else 0,\n",
    "        s[1] - 1.5            if a == 'U' else 0,\n",
    "        (s[0]*s[1] - 3)/3     if a == 'U' else 0,\n",
    "        (s[0]*s[0] - 2)/2     if a == 'U' else 0,\n",
    "        (s[1]*s[1] - 4.5)/4.5 if a == 'U' else 0,\n",
    "        1                     if a == 'U' else 0,\n",
    "        s[0] - 1              if a == 'D' else 0,\n",
    "        s[1] - 1.5            if a == 'D' else 0,\n",
    "        (s[0]*s[1] - 3)/3     if a == 'D' else 0,\n",
    "        (s[0]*s[0] - 2)/2     if a == 'D' else 0,\n",
    "        (s[1]*s[1] - 4.5)/4.5 if a == 'D' else 0,\n",
    "        1                     if a == 'D' else 0,\n",
    "        s[0] - 1              if a == 'L' else 0,\n",
    "        s[1] - 1.5            if a == 'L' else 0,\n",
    "        (s[0]*s[1] - 3)/3     if a == 'L' else 0,\n",
    "        (s[0]*s[0] - 2)/2     if a == 'L' else 0,\n",
    "        (s[1]*s[1] - 4.5)/4.5 if a == 'L' else 0,\n",
    "        1                     if a == 'L' else 0,\n",
    "        s[0] - 1              if a == 'R' else 0,\n",
    "        s[1] - 1.5            if a == 'R' else 0,\n",
    "        (s[0]*s[1] - 3)/3     if a == 'R' else 0,\n",
    "        (s[0]*s[0] - 2)/2     if a == 'R' else 0,\n",
    "        (s[1]*s[1] - 4.5)/4.5 if a == 'R' else 0,\n",
    "        1                     if a == 'R' else 0,\n",
    "        1\n",
    "    ])\n",
    "    def predict(self, s, a):\n",
    "        x = self.sa2x(s, a)\n",
    "        return self.theta.dot(x)\n",
    "\n",
    "    def grad(self, s, a):\n",
    "        return self.sa2x(s, a)"
   ]
  },
  {
   "cell_type": "code",
   "execution_count": 12,
   "metadata": {
    "collapsed": true
   },
   "outputs": [],
   "source": [
    "def getQs(model, s):\n",
    "    Qs = {}\n",
    "    for a in ALL_Actions:\n",
    "        q_sa = model.predict(s, a)\n",
    "        Qs[a] = q_sa\n",
    "    return Qs"
   ]
  },
  {
   "cell_type": "code",
   "execution_count": 30,
   "metadata": {},
   "outputs": [
    {
     "name": "stdout",
     "output_type": "stream",
     "text": [
      "Values:\n",
      "---------------------------\n",
      "-0.10|-0.10|-0.10| 1.00|\n",
      "---------------------------\n",
      "-0.10| 0.00|-0.10|-1.00|\n",
      "---------------------------\n",
      "-0.10|-0.10|-0.10|-0.10|\n",
      "it: 29000\r"
     ]
    },
    {
     "data": {
      "image/png": "[encoded data removed]",
      "text/plain": [
       "<matplotlib.figure.Figure at 0x189c2ce36d8>"
      ]
     },
     "metadata": {},
     "output_type": "display_data"
    },
    {
     "name": "stdout",
     "output_type": "stream",
     "text": [
      "Values:\n",
      "---------------------------\n",
      " 0.18| 0.34| 0.51| 0.00|\n",
      "---------------------------\n",
      "-0.22| 0.00| 0.11| 0.00|\n",
      "---------------------------\n",
      "-0.32|-0.50|-0.55|-0.76|\n",
      "Policy:\n",
      "---------------------------\n",
      "  R  |  R  |  R  |     |\n",
      "---------------------------\n",
      "  U  |     |  U  |     |\n",
      "---------------------------\n",
      "  R  |  U  |  U  |  U  |\n"
     ]
    }
   ],
   "source": [
    "grid = negative_grid(step_cost=-0.1)\n",
    "# grid=standard_grid()\n",
    "print_values(grid.rewards, grid)\n",
    "\n",
    "states = grid.all_states()\n",
    "for s in states:\n",
    "    SA2IDX[s] = {}\n",
    "    for a in ALL_Actions:\n",
    "        SA2IDX[s][a] = IDX\n",
    "        IDX += 1\n",
    "\n",
    "# initialize model\n",
    "model = Model()\n",
    "\n",
    "# repeat until convergence\n",
    "t = 1.0\n",
    "t2 = 1.0\n",
    "deltas = []\n",
    "for it in range(30000):\n",
    "    if it % 100 == 0:\n",
    "        t += 0.001\n",
    "        t2 += 0.001\n",
    "    if it % 1000 == 0:\n",
    "        print(\"it:\", it,end='\\r')\n",
    "    alpha = ALPHA / t2\n",
    "\n",
    "    s = (2, 0) # start state\n",
    "    grid.set_state(s)\n",
    "    Qs = getQs(model, s)\n",
    "\n",
    "    a = max_dict(Qs)[0]\n",
    "    a = random_action(a, eps=0.5/t) # epsilon-greedy\n",
    "    biggest_change = 0\n",
    "    \n",
    "    while not grid.game_over():\n",
    "        r = grid.move(a)\n",
    "        s2 = grid.current_state()\n",
    "        old_theta = model.theta.copy()\n",
    "        if grid.is_terminal(s2):\n",
    "            model.theta += alpha*(r - model.predict(s, a))*model.grad(s, a)\n",
    "        else:\n",
    "            Qs2 = getQs(model, s2)\n",
    "            a2 = max_dict(Qs2)[0]\n",
    "            a2 = random_action(a2, eps=0.5/t) # epsilon-greedy\n",
    "            model.theta += alpha*(r + GAMMA*model.predict(s2, a2) - model.predict(s, a))*model.grad(s, a)\n",
    "            s = s2\n",
    "            a = a2\n",
    "        biggest_change = max(biggest_change, np.abs(model.theta - old_theta).sum())\n",
    "    deltas.append(biggest_change)\n",
    "\n",
    "plt.plot(deltas)\n",
    "plt.show()\n",
    "\n",
    "# determine the policy from Q*\n",
    "# find V* from Q*\n",
    "policy = {}\n",
    "V = {}\n",
    "Q = {}\n",
    "for s in grid.actions.keys():\n",
    "    Qs = getQs(model, s)\n",
    "    Q[s] = Qs\n",
    "    a, max_q = max_dict(Qs)\n",
    "    policy[s] = a\n",
    "    V[s] = max_q\n",
    "\n",
    "\n",
    "print_values(V, grid)\n",
    "print_policy(policy, grid)"
   ]
  }
 ],
 "metadata": {
  "kernelspec": {
   "display_name": "Python 3",
   "language": "python",
   "name": "python3"
  },
  "language_info": {
   "codemirror_mode": {
    "name": "ipython",
    "version": 3
   },
   "file_extension": ".py",
   "mimetype": "text/x-python",
   "name": "python",
   "nbconvert_exporter": "python",
   "pygments_lexer": "ipython3",
   "version": "3.6.3"
  }
 },
 "nbformat": 4,
 "nbformat_minor": 2
}
