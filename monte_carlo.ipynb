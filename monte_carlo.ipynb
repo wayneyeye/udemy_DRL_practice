{
 "cells": [
  {
   "cell_type": "code",
   "execution_count": 3,
   "metadata": {
    "collapsed": true
   },
   "outputs": [],
   "source": [
    "import numpy as np\n",
    "import time\n",
    "from grid_world import standard_grid,negative_grid\n",
    "SMALL_TOL=10e-10\n",
    "ALL_Actions=['U','D','L','R',]\n",
    "GAMMA=0.9\n",
    "def print_values(V, g):\n",
    "  print(\"Values:\")\n",
    "  for i in range(g.width):\n",
    "    print(\"---------------------------\")\n",
    "    for j in range(g.height):\n",
    "      v = V.get((i,j), 0)\n",
    "      if v >= 0:\n",
    "        print(\" %.2f|\" % v, end=\"\")\n",
    "      else:\n",
    "        print(\"%.2f|\" % v, end=\"\") # -ve sign takes up an extra space\n",
    "    print(\"\")\n",
    "\n",
    "\n",
    "def print_policy(P, g):\n",
    "  print(\"Policy:\")\n",
    "  for i in range(g.width):\n",
    "    print(\"---------------------------\")\n",
    "    for j in range(g.height):\n",
    "      a = P.get((i,j), ' ')\n",
    "      print(\"  %s  |\" % a, end=\"\")\n",
    "    print(\"\")\n",
    "    "
   ]
  },
  {
   "cell_type": "code",
   "execution_count": 9,
   "metadata": {
    "collapsed": true
   },
   "outputs": [],
   "source": [
    "def play_game(grid,policy):\n",
    "    start_states=list(grid.actions.keys())\n",
    "    start_idx=np.random.choice(len(start_states))\n",
    "    grid.set_state(start_states[start_idx])\n",
    "    s=grid.current_state()\n",
    "    states_and_rewards=[(s,0)] # current state with no reward\n",
    "    while not grid.game_over():\n",
    "        a=policy[s]\n",
    "        r=grid.move(a)\n",
    "        s=grid.current_state()\n",
    "        states_and_rewards.append((s,r))\n",
    "    G=0 # termincal state with value = 0\n",
    "    states_and_returns=[]\n",
    "    first=True\n",
    "    for s, r in reversed(states_and_rewards):\n",
    "        if first:\n",
    "            first=False\n",
    "        else:\n",
    "            states_and_returns.append((s,G))\n",
    "        G=r+GAMMA*G\n",
    "    states_and_returns.reverse()\n",
    "    return states_and_returns"
   ]
  },
  {
   "cell_type": "code",
   "execution_count": 5,
   "metadata": {
    "scrolled": false
   },
   "outputs": [
    {
     "name": "stdout",
     "output_type": "stream",
     "text": [
      "rewards:\n",
      "Values:\n",
      "---------------------------\n",
      " 0.00| 0.00| 0.00| 1.00|\n",
      "---------------------------\n",
      " 0.00| 0.00| 0.00|-1.00|\n",
      "---------------------------\n",
      " 0.00| 0.00| 0.00| 0.00|\n"
     ]
    }
   ],
   "source": [
    "grid=standard_grid()\n",
    "print(\"rewards:\")\n",
    "print_values(grid.rewards,grid)"
   ]
  },
  {
   "cell_type": "code",
   "execution_count": 6,
   "metadata": {
    "collapsed": true
   },
   "outputs": [],
   "source": [
    "# state -> action\n",
    "policy = {\n",
    "(2, 0): 'U',\n",
    "(1, 0): 'U',\n",
    "(0, 0): 'R',\n",
    "(0, 1): 'R',\n",
    "(0, 2): 'R',\n",
    "(1, 2): 'R',\n",
    "(2, 1): 'R',\n",
    "(2, 2): 'R',\n",
    "(2, 3): 'U',\n",
    "}"
   ]
  },
  {
   "cell_type": "code",
   "execution_count": 28,
   "metadata": {
    "collapsed": true
   },
   "outputs": [],
   "source": [
    "# Main starts here"
   ]
  },
  {
   "cell_type": "code",
   "execution_count": 15,
   "metadata": {},
   "outputs": [
    {
     "name": "stdout",
     "output_type": "stream",
     "text": [
      "1000\n",
      "Values:\n",
      "---------------------------\n",
      " 0.81| 0.90| 1.00| 0.00|\n",
      "---------------------------\n",
      " 0.73| 0.00|-1.00| 0.00|\n",
      "---------------------------\n",
      " 0.66|-0.81|-0.90|-1.00|\n",
      "Policy:\n",
      "---------------------------\n",
      "  R  |  R  |  R  |     |\n",
      "---------------------------\n",
      "  U  |     |  R  |     |\n",
      "---------------------------\n",
      "  U  |  R  |  R  |  U  |\n"
     ]
    }
   ],
   "source": [
    "# initialize V(s) = 0\n",
    "V = {}\n",
    "returns={}\n",
    "states=grid.all_states()\n",
    "for s in states:\n",
    "    V[s] = 0\n",
    "    if s in grid.actions:\n",
    "        returns[s]=[]\n",
    "    else:\n",
    "        V[s]=0\n",
    "\n",
    "# value iteration\n",
    "iter_n=0\n",
    "for t in range(1000):\n",
    "    iter_n+=1\n",
    "    states_and_returns=play_game(grid,policy)\n",
    "    seen_states=set() # this reset in each replication\n",
    "    for s,G in states_and_returns:\n",
    "        if s not in seen_states:\n",
    "            returns[s].append(G)\n",
    "            V[s]=np.mean(returns[s])\n",
    "            seen_states.add(s)\n",
    "    print(iter_n,end='\\r')\n",
    "    time.sleep(0.001)\n",
    "#check the result\n",
    "print()\n",
    "print_values(V,grid)\n",
    "print_policy(policy,grid)"
   ]
  }
 ],
 "metadata": {
  "kernelspec": {
   "display_name": "Python 3",
   "language": "python",
   "name": "python3"
  },
  "language_info": {
   "codemirror_mode": {
    "name": "ipython",
    "version": 3
   },
   "file_extension": ".py",
   "mimetype": "text/x-python",
   "name": "python",
   "nbconvert_exporter": "python",
   "pygments_lexer": "ipython3",
   "version": "3.6.3"
  }
 },
 "nbformat": 4,
 "nbformat_minor": 2
}
