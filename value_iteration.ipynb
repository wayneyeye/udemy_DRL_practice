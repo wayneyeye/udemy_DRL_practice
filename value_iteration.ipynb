{
 "cells": [
  {
   "cell_type": "code",
   "execution_count": 27,
   "metadata": {
    "collapsed": true
   },
   "outputs": [],
   "source": [
    "import numpy as np\n",
    "import time\n",
    "from grid_world import standard_grid,negative_grid\n",
    "SMALL_TOL=10e-10\n",
    "ALL_Actions=['U','D','L','R',]\n",
    "def print_values(V, g):\n",
    "  print(\"Values:\")\n",
    "  for i in range(g.width):\n",
    "    print(\"---------------------------\")\n",
    "    for j in range(g.height):\n",
    "      v = V.get((i,j), 0)\n",
    "      if v >= 0:\n",
    "        print(\" %.2f|\" % v, end=\"\")\n",
    "      else:\n",
    "        print(\"%.2f|\" % v, end=\"\") # -ve sign takes up an extra space\n",
    "    print(\"\")\n",
    "\n",
    "\n",
    "def print_policy(P, g):\n",
    "  print(\"Policy:\")\n",
    "  for i in range(g.width):\n",
    "    print(\"---------------------------\")\n",
    "    for j in range(g.height):\n",
    "      a = P.get((i,j), ' ')\n",
    "      print(\"  %s  |\" % a, end=\"\")\n",
    "    print(\"\")\n",
    "    "
   ]
  },
  {
   "cell_type": "code",
   "execution_count": 28,
   "metadata": {
    "collapsed": true
   },
   "outputs": [],
   "source": [
    "# Main starts here"
   ]
  },
  {
   "cell_type": "code",
   "execution_count": 29,
   "metadata": {},
   "outputs": [
    {
     "name": "stdout",
     "output_type": "stream",
     "text": [
      "Values:\n",
      "---------------------------\n",
      "-0.10|-0.10|-0.10| 1.00|\n",
      "---------------------------\n",
      "-0.10| 0.00|-0.10|-1.00|\n",
      "---------------------------\n",
      "-0.10|-0.10|-0.10|-0.10|\n"
     ]
    }
   ],
   "source": [
    "grid = negative_grid()\n",
    "print_values(grid.rewards,grid) #check the reward matrix"
   ]
  },
  {
   "cell_type": "code",
   "execution_count": 40,
   "metadata": {},
   "outputs": [
    {
     "name": "stdout",
     "output_type": "stream",
     "text": [
      "initial policy\n",
      "Policy:\n",
      "---------------------------\n",
      "  U  |  D  |  R  |     |\n",
      "---------------------------\n",
      "  L  |     |  L  |     |\n",
      "---------------------------\n",
      "  R  |  R  |  L  |  D  |\n",
      "4\r\n",
      "Values:\n",
      "---------------------------\n",
      " 0.62| 0.80| 1.00| 0.00|\n",
      "---------------------------\n",
      " 0.46| 0.00| 0.80| 0.00|\n",
      "---------------------------\n",
      " 0.31| 0.46| 0.62| 0.46|\n",
      "Policy:\n",
      "---------------------------\n",
      "  R  |  R  |  R  |     |\n",
      "---------------------------\n",
      "  U  |     |  U  |     |\n",
      "---------------------------\n",
      "  U  |  R  |  U  |  L  |\n"
     ]
    }
   ],
   "source": [
    "## initialize random policies\n",
    "policy={}\n",
    "for s in grid.actions.keys():\n",
    "    policy[s]=np.random.choice(ALL_Actions) # illegal actions will not move\n",
    "print('initial policy')\n",
    "print_policy(policy,grid)\n",
    "\n",
    "### uniformly random actions ###\n",
    "# initialize V(s) = 0\n",
    "V = {}\n",
    "states=grid.all_states()\n",
    "for s in states:\n",
    "    V[s] = 0\n",
    "    if s in grid.actions:\n",
    "        V[s]=np.random.random()\n",
    "GAMMA = 0.9 # discount factor\n",
    "# print_values(V,grid)\n",
    "\n",
    "# value iteration\n",
    "iter_n=0\n",
    "while True:\n",
    "    iter_n+=1\n",
    "    biggest_diff=0\n",
    "    for s in states:\n",
    "        if s in policy:\n",
    "            old_v=V[s]\n",
    "            best_v=float('-inf')\n",
    "            best_a=policy[s]\n",
    "            for a in ALL_Actions:\n",
    "                grid.set_state(s)\n",
    "                r=grid.move(a)\n",
    "                v_new=r+GAMMA*V[grid.current_state()]\n",
    "                if best_v<v_new:\n",
    "                    best_v=v_new\n",
    "                    best_a=a\n",
    "            V[s]=best_v # V[s] change in place\n",
    "            policy[s]=best_a\n",
    "            biggest_diff=max(biggest_diff,(old_v-V[s]))\n",
    "    if biggest_diff<SMALL_TOL:\n",
    "        break           \n",
    "                    \n",
    "#check the result\n",
    "print(iter_n,end='\\r')\n",
    "print()\n",
    "print_values(V,grid)\n",
    "print_policy(policy,grid)"
   ]
  }
 ],
 "metadata": {
  "kernelspec": {
   "display_name": "Python 3",
   "language": "python",
   "name": "python3"
  },
  "language_info": {
   "codemirror_mode": {
    "name": "ipython",
    "version": 3
   },
   "file_extension": ".py",
   "mimetype": "text/x-python",
   "name": "python",
   "nbconvert_exporter": "python",
   "pygments_lexer": "ipython3",
   "version": "3.6.3"
  }
 },
 "nbformat": 4,
 "nbformat_minor": 2
}
