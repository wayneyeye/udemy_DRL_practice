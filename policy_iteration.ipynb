{
 "cells": [
  {
   "cell_type": "code",
   "execution_count": 20,
   "metadata": {
    "collapsed": true
   },
   "outputs": [],
   "source": [
    "import numpy as np\n",
    "import time\n",
    "from grid_world import standard_grid,negative_grid\n",
    "SMALL_TOL=10e-8\n",
    "ALL_Actions=['U','D','L','R',]\n",
    "def print_values(V, g):\n",
    "  print(\"Values:\")\n",
    "  for i in range(g.width):\n",
    "    print(\"---------------------------\")\n",
    "    for j in range(g.height):\n",
    "      v = V.get((i,j), 0)\n",
    "      if v >= 0:\n",
    "        print(\" %.2f|\" % v, end=\"\")\n",
    "      else:\n",
    "        print(\"%.2f|\" % v, end=\"\") # -ve sign takes up an extra space\n",
    "    print(\"\")\n",
    "\n",
    "\n",
    "def print_policy(P, g):\n",
    "  print(\"Policy:\")\n",
    "  for i in range(g.width):\n",
    "    print(\"---------------------------\")\n",
    "    for j in range(g.height):\n",
    "      a = P.get((i,j), ' ')\n",
    "      print(\"  %s  |\" % a, end=\"\")\n",
    "    print(\"\")\n",
    "    "
   ]
  },
  {
   "cell_type": "code",
   "execution_count": 7,
   "metadata": {
    "collapsed": true
   },
   "outputs": [],
   "source": [
    "# Main starts here"
   ]
  },
  {
   "cell_type": "code",
   "execution_count": 8,
   "metadata": {},
   "outputs": [
    {
     "name": "stdout",
     "output_type": "stream",
     "text": [
      "---------------------------\n",
      "-0.10|-0.10|-0.10| 1.00|\n",
      "---------------------------\n",
      "-0.10| 0.00|-0.10|-1.00|\n",
      "---------------------------\n",
      "-0.10|-0.10|-0.10|-0.10|\n"
     ]
    }
   ],
   "source": [
    "grid = negative_grid()\n",
    "print_values(grid.rewards,grid) #check the reward matrix"
   ]
  },
  {
   "cell_type": "code",
   "execution_count": 42,
   "metadata": {},
   "outputs": [
    {
     "name": "stdout",
     "output_type": "stream",
     "text": [
      "initial policy\n",
      "Policy:\n",
      "---------------------------\n",
      "  L  |  U  |  L  |     |\n",
      "---------------------------\n",
      "  L  |     |  L  |     |\n",
      "---------------------------\n",
      "  D  |  R  |  R  |  R  |\n",
      "4\n",
      "Values:\n",
      "---------------------------\n",
      " 0.62| 0.80| 1.00| 0.00|\n",
      "---------------------------\n",
      " 0.46| 0.00| 0.80| 0.00|\n",
      "---------------------------\n",
      " 0.31| 0.46| 0.62| 0.46|\n",
      "Policy:\n",
      "---------------------------\n",
      "  R  |  R  |  R  |     |\n",
      "---------------------------\n",
      "  U  |     |  U  |     |\n",
      "---------------------------\n",
      "  U  |  R  |  U  |  L  |\n"
     ]
    }
   ],
   "source": [
    "## initialize random policies\n",
    "policy={}\n",
    "for s in grid.actions.keys():\n",
    "    policy[s]=np.random.choice(ALL_Actions) # illegal actions will not move\n",
    "print('initial policy')\n",
    "print_policy(policy,grid)\n",
    "\n",
    "### uniformly random actions ###\n",
    "# initialize V(s) = 0\n",
    "V = {}\n",
    "states=grid.all_states()\n",
    "for s in states:\n",
    "    V[s] = 0\n",
    "    if s in grid.actions:\n",
    "        V[s]=np.random.random()\n",
    "gamma = 0.9 # discount factor\n",
    "# print_values(V,grid)\n",
    "\n",
    "# combine two iterations together\n",
    "iter_n=0\n",
    "while True:\n",
    "    #policy eval\n",
    "    while True:\n",
    "        biggest_change = 0\n",
    "        for s in states:\n",
    "            old_v = V[s]\n",
    "            # V(s) only has value if it's not a terminal state\n",
    "            if s in policy:\n",
    "                a = policy[s]\n",
    "                grid.set_state(s)\n",
    "                r = grid.move(a)\n",
    "                V[s] = r + gamma * V[grid.current_state()]\n",
    "                biggest_change = max(biggest_change, np.abs(old_v - V[s]))\n",
    "        if biggest_change < SMALL_TOL: # check is stopping criteria met\n",
    "            break\n",
    "    #policy improvement\n",
    "    is_policy_converged=True\n",
    "    for s in states:\n",
    "        if s in policy:\n",
    "            old_a=policy[s]\n",
    "            new_a=None\n",
    "            best_value=float('-inf') # assign the smallest possible value in python\n",
    "            for a in ALL_Actions:\n",
    "                grid.set_state(s)\n",
    "                r=grid.move(a)\n",
    "                v=r+gamma*V[grid.current_state()]\n",
    "                if v>best_value:\n",
    "                    best_value=v\n",
    "                    new_a=a\n",
    "            policy[s]=new_a\n",
    "            if new_a!=old_a:\n",
    "                is_policy_converged=False\n",
    "    #check if end                \n",
    "    if is_policy_converged:\n",
    "        break\n",
    "    iter_n+=1\n",
    "    print(iter_n,end=\"\\r\")\n",
    "    time.sleep(0.1)\n",
    "    \n",
    "#check the result\n",
    "print()\n",
    "print_values(V,grid)\n",
    "print_policy(policy,grid)"
   ]
  },
  {
   "cell_type": "code",
   "execution_count": null,
   "metadata": {
    "collapsed": true
   },
   "outputs": [],
   "source": []
  },
  {
   "cell_type": "code",
   "execution_count": null,
   "metadata": {
    "collapsed": true
   },
   "outputs": [],
   "source": []
  }
 ],
 "metadata": {
  "kernelspec": {
   "display_name": "Python 3",
   "language": "python",
   "name": "python3"
  },
  "language_info": {
   "codemirror_mode": {
    "name": "ipython",
    "version": 3
   },
   "file_extension": ".py",
   "mimetype": "text/x-python",
   "name": "python",
   "nbconvert_exporter": "python",
   "pygments_lexer": "ipython3",
   "version": "3.6.3"
  }
 },
 "nbformat": 4,
 "nbformat_minor": 2
}
